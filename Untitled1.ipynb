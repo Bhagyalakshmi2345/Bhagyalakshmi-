{
  "nbformat": 4,
  "nbformat_minor": 0,
  "metadata": {
    "colab": {
      "provenance": [],
      "authorship_tag": "ABX9TyPoub4jaQz2QICeJzFu1mka",
      "include_colab_link": true
    },
    "kernelspec": {
      "name": "python3",
      "display_name": "Python 3"
    },
    "language_info": {
      "name": "python"
    }
  },
  "cells": [
    {
      "cell_type": "markdown",
      "metadata": {
        "id": "view-in-github",
        "colab_type": "text"
      },
      "source": [
        "<a href=\"https://colab.research.google.com/github/Bhagyalakshmi2345/Bhagyalakshmi-/blob/main/Untitled1.ipynb\" target=\"_parent\"><img src=\"https://colab.research.google.com/assets/colab-badge.svg\" alt=\"Open In Colab\"/></a>"
      ]
    },
    {
      "cell_type": "code",
      "execution_count": null,
      "metadata": {
        "colab": {
          "base_uri": "https://localhost:8080/"
        },
        "id": "FN1xe1WEfZtj",
        "outputId": "ba5744a3-8725-4cc2-ff10-3cca9d47a1b6"
      },
      "outputs": [
        {
          "output_type": "stream",
          "name": "stdout",
          "text": [
            "100 200\n"
          ]
        }
      ],
      "source": [
        "hulk_s=100\n",
        "thar_s=200\n",
        "print(hulk_s,thar_s)\n",
        "\n",
        "\n",
        "\n"
      ]
    },
    {
      "cell_type": "markdown",
      "source": [],
      "metadata": {
        "id": "sz6TsIG6n0tl"
      }
    },
    {
      "cell_type": "code",
      "source": [
        "# asigning values of variables\n",
        "hulk_s=100\n",
        "thar_s=200\n",
        "hulk_s,thar_s=thar_s,hulk_s\n",
        "print(hulk_s,thar_s)"
      ],
      "metadata": {
        "colab": {
          "base_uri": "https://localhost:8080/"
        },
        "id": "VVpgyixzh2qG",
        "outputId": "646f26b3-1edd-4c0d-a129-8e99452581f9"
      },
      "execution_count": null,
      "outputs": [
        {
          "output_type": "stream",
          "name": "stdout",
          "text": [
            "200 100\n"
          ]
        }
      ]
    },
    {
      "cell_type": "markdown",
      "source": [
        "type casting\n"
      ],
      "metadata": {
        "id": "p_qfsOV6m7kF"
      }
    },
    {
      "cell_type": "code",
      "source": [
        "var1='10'\n",
        "var1_new= int(var1)\n",
        "var_type=type(var1_new)\n",
        "var1_type=type(var1)\n",
        "print(var_type,var1_type)\n",
        "\n",
        "\n"
      ],
      "metadata": {
        "colab": {
          "base_uri": "https://localhost:8080/"
        },
        "id": "lRD33LC4m9mQ",
        "outputId": "e5ed6d83-3ce9-42e4-dfec-d4cda842fe86"
      },
      "execution_count": null,
      "outputs": [
        {
          "output_type": "stream",
          "name": "stdout",
          "text": [
            "<class 'int'> <class 'str'>\n"
          ]
        }
      ]
    },
    {
      "cell_type": "markdown",
      "source": [
        "hulks strength is recorded as 1000 and its is increased by 200"
      ],
      "metadata": {
        "id": "VboUee9Rn-Fc"
      }
    },
    {
      "cell_type": "code",
      "source": [
        "hulk_strength='1000'\n",
        "hulk_new=int(hulk_strength)\n",
        "hulk_newstrength=hulk_new + 200\n",
        "print(hulk_newstrength)"
      ],
      "metadata": {
        "colab": {
          "base_uri": "https://localhost:8080/"
        },
        "id": "8dv3RXDJoKwF",
        "outputId": "81e0ca29-c9a6-4751-e7af-eae40d9bc6e0"
      },
      "execution_count": null,
      "outputs": [
        {
          "output_type": "stream",
          "name": "stdout",
          "text": [
            "1200\n"
          ]
        }
      ]
    },
    {
      "cell_type": "markdown",
      "source": [
        "doctor strange recorded the in second but accidently input in the form of string it is 3600 convert it into integer and then into hours\n"
      ],
      "metadata": {
        "id": "veU9aTdpoz3l"
      }
    },
    {
      "cell_type": "code",
      "source": [
        "record='3600'\n",
        "record_new=int(record)\n",
        "print(record_new)\n",
        "record_inhours=record_new*60\n",
        "print(record_inhours)"
      ],
      "metadata": {
        "colab": {
          "base_uri": "https://localhost:8080/"
        },
        "id": "_85M1yqQpDFq",
        "outputId": "4c2f3a61-3fca-4639-db94-0e778bdce0f2"
      },
      "execution_count": null,
      "outputs": [
        {
          "output_type": "stream",
          "name": "stdout",
          "text": [
            "3600\n",
            "216000\n"
          ]
        }
      ]
    },
    {
      "cell_type": "markdown",
      "source": [
        "logy recorded 7 hits out of 10 shots both in integer convert them into float and calculate the accuracy"
      ],
      "metadata": {
        "id": "LWVtXIggpZVY"
      }
    },
    {
      "cell_type": "code",
      "source": [
        "hits,shots=7,10\n",
        "hit_new,shot_new=float(hits),float(shots)\n",
        "print(hit_new,shot_new)\n",
        "accuracy=(hits/shots)*100\n",
        "print(accuracy)"
      ],
      "metadata": {
        "colab": {
          "base_uri": "https://localhost:8080/"
        },
        "id": "bnuoWVhtpv3h",
        "outputId": "d7e62a25-4bc2-4eed-9469-c39723e4ee43"
      },
      "execution_count": null,
      "outputs": [
        {
          "output_type": "stream",
          "name": "stdout",
          "text": [
            "7.0 10.0\n",
            "70.0\n"
          ]
        }
      ]
    },
    {
      "cell_type": "markdown",
      "source": [
        "formate form"
      ],
      "metadata": {
        "id": "aEaFagmJql8i"
      }
    },
    {
      "cell_type": "code",
      "source": [
        "hits=float(2)\n",
        "print(f\"hits:{hits:.2f}%\")"
      ],
      "metadata": {
        "colab": {
          "base_uri": "https://localhost:8080/"
        },
        "id": "CRy7L-e0qnxQ",
        "outputId": "97858211-1d18-4f06-8f07-7487a879072d"
      },
      "execution_count": null,
      "outputs": [
        {
          "output_type": "stream",
          "name": "stdout",
          "text": [
            "hits:2.00%\n"
          ]
        }
      ]
    },
    {
      "cell_type": "markdown",
      "source": [
        "thors hammer weight is 1000,but u=you need to calculate the gravitational force which required weight in float"
      ],
      "metadata": {
        "id": "Fuoni8AVroVG"
      }
    },
    {
      "cell_type": "code",
      "source": [
        "hammers_weight=1000\n",
        "gravity=hammers_weight*9.8\n",
        "print(f\"gravitational force of hammer:{gravity:.2f}\")"
      ],
      "metadata": {
        "colab": {
          "base_uri": "https://localhost:8080/"
        },
        "id": "M5XjuHYRr3IY",
        "outputId": "8b64ebad-63f2-4d48-f389-5afd1969ade4"
      },
      "execution_count": null,
      "outputs": [
        {
          "output_type": "stream",
          "name": "stdout",
          "text": [
            "gravitational force of hammer:9800.00\n"
          ]
        }
      ]
    }
  ]
}