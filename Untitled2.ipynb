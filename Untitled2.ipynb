{
  "nbformat": 4,
  "nbformat_minor": 0,
  "metadata": {
    "colab": {
      "provenance": [],
      "authorship_tag": "ABX9TyM8prXgL78Lqj1jZ0ePlHBG",
      "include_colab_link": true
    },
    "kernelspec": {
      "name": "python3",
      "display_name": "Python 3"
    },
    "language_info": {
      "name": "python"
    }
  },
  "cells": [
    {
      "cell_type": "markdown",
      "metadata": {
        "id": "view-in-github",
        "colab_type": "text"
      },
      "source": [
        "<a href=\"https://colab.research.google.com/github/Bhagyalakshmi2345/Bhagyalakshmi-/blob/main/Untitled2.ipynb\" target=\"_parent\"><img src=\"https://colab.research.google.com/assets/colab-badge.svg\" alt=\"Open In Colab\"/></a>"
      ]
    },
    {
      "cell_type": "markdown",
      "source": [
        "python variable code reference to object ,not the actuall object themselves"
      ],
      "metadata": {
        "id": "HTHjZVyHr5G_"
      }
    },
    {
      "cell_type": "code",
      "execution_count": 4,
      "metadata": {
        "colab": {
          "base_uri": "https://localhost:8080/"
        },
        "id": "CvCwfLhupB5x",
        "outputId": "7fc42f67-837b-4b0a-b7d6-8cb43625d397"
      },
      "outputs": [
        {
          "output_type": "stream",
          "name": "stdout",
          "text": [
            "[1, 2, 3, 4]\n"
          ]
        }
      ],
      "source": [
        "a=[1,2,3]\n",
        "b=a\n",
        "b.append(4)\n",
        "print(a)"
      ]
    },
    {
      "cell_type": "markdown",
      "source": [
        "copy shield\n"
      ],
      "metadata": {
        "id": "MLvMP61QuMjv"
      }
    },
    {
      "cell_type": "code",
      "source": [
        "shield=['vibranium','round']\n",
        "copy_shield=shield\n",
        "print('original shield :',shield)\n",
        "print('wolverine changes the shield material')\n",
        "copy_shield[0]='adamantium'\n",
        "print('new shield:',shield)"
      ],
      "metadata": {
        "colab": {
          "base_uri": "https://localhost:8080/"
        },
        "id": "gJt4aHqquOkM",
        "outputId": "b7ac91db-eea0-4f06-a4e2-802ebdbcfcd9"
      },
      "execution_count": 5,
      "outputs": [
        {
          "output_type": "stream",
          "name": "stdout",
          "text": [
            "original shield : ['vibranium', 'round']\n",
            "wolverine changes the shield material\n",
            "new shield: ['adamantium', 'round']\n"
          ]
        }
      ]
    },
    {
      "cell_type": "markdown",
      "source": [
        "delete the memory\n"
      ],
      "metadata": {
        "id": "YFklwS6tvBVS"
      }
    },
    {
      "cell_type": "code",
      "source": [
        "a=[1,2,3]\n",
        "b=a\n",
        "b=[4,5,6]\n",
        "print('a:',a)\n",
        "print('b:',b)\n",
        "del a\n",
        "print('a:',a)"
      ],
      "metadata": {
        "colab": {
          "base_uri": "https://localhost:8080/",
          "height": 211
        },
        "id": "DMm0DNa3vEI7",
        "outputId": "675e80cf-cc81-440f-d426-a56653ccb765"
      },
      "execution_count": 6,
      "outputs": [
        {
          "output_type": "stream",
          "name": "stdout",
          "text": [
            "a: [1, 2, 3]\n",
            "b: [4, 5, 6]\n"
          ]
        },
        {
          "output_type": "error",
          "ename": "NameError",
          "evalue": "name 'a' is not defined",
          "traceback": [
            "\u001b[0;31m---------------------------------------------------------------------------\u001b[0m",
            "\u001b[0;31mNameError\u001b[0m                                 Traceback (most recent call last)",
            "\u001b[0;32m/tmp/ipython-input-3045439928.py\u001b[0m in \u001b[0;36m<cell line: 0>\u001b[0;34m()\u001b[0m\n\u001b[1;32m      5\u001b[0m \u001b[0mprint\u001b[0m\u001b[0;34m(\u001b[0m\u001b[0;34m'b:'\u001b[0m\u001b[0;34m,\u001b[0m\u001b[0mb\u001b[0m\u001b[0;34m)\u001b[0m\u001b[0;34m\u001b[0m\u001b[0;34m\u001b[0m\u001b[0m\n\u001b[1;32m      6\u001b[0m \u001b[0;32mdel\u001b[0m \u001b[0ma\u001b[0m\u001b[0;34m\u001b[0m\u001b[0;34m\u001b[0m\u001b[0m\n\u001b[0;32m----> 7\u001b[0;31m \u001b[0mprint\u001b[0m\u001b[0;34m(\u001b[0m\u001b[0;34m'a:'\u001b[0m\u001b[0;34m,\u001b[0m\u001b[0ma\u001b[0m\u001b[0;34m)\u001b[0m\u001b[0;34m\u001b[0m\u001b[0;34m\u001b[0m\u001b[0m\n\u001b[0m",
            "\u001b[0;31mNameError\u001b[0m: name 'a' is not defined"
          ]
        }
      ]
    },
    {
      "cell_type": "code",
      "source": [
        "a=[81,82,83]\n",
        "b=[81,82,83]\n",
        "print(a is b)\n",
        "print(a==b)"
      ],
      "metadata": {
        "colab": {
          "base_uri": "https://localhost:8080/"
        },
        "id": "bKYZWCfkvczM",
        "outputId": "89032dfa-5aaa-4354-a6b2-e7efe26e049e"
      },
      "execution_count": 7,
      "outputs": [
        {
          "output_type": "stream",
          "name": "stdout",
          "text": [
            "False\n",
            "True\n"
          ]
        }
      ]
    },
    {
      "cell_type": "code",
      "source": [
        "\n",
        "x='nitika'\n",
        "y=x\n",
        "print(x,y)\n",
        "x=5\n",
        "print(x,y)\n",
        "y='nigam'\n",
        "print(x,y)\n"
      ],
      "metadata": {
        "colab": {
          "base_uri": "https://localhost:8080/"
        },
        "id": "I1ccMPXOwbQc",
        "outputId": "1eb79169-51f4-4a85-91e1-2b91158a3d2f"
      },
      "execution_count": 9,
      "outputs": [
        {
          "output_type": "stream",
          "name": "stdout",
          "text": [
            "nitika nitika\n",
            "5 nitika\n",
            "5 nigam\n"
          ]
        }
      ]
    }
  ]
}