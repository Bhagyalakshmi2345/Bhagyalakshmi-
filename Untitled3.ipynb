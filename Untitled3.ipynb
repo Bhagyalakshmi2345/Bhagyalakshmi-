{
  "nbformat": 4,
  "nbformat_minor": 0,
  "metadata": {
    "colab": {
      "provenance": [],
      "authorship_tag": "ABX9TyN8su9XL7AYYiEDltDyXRff",
      "include_colab_link": true
    },
    "kernelspec": {
      "name": "python3",
      "display_name": "Python 3"
    },
    "language_info": {
      "name": "python"
    }
  },
  "cells": [
    {
      "cell_type": "markdown",
      "metadata": {
        "id": "view-in-github",
        "colab_type": "text"
      },
      "source": [
        "<a href=\"https://colab.research.google.com/github/Bhagyalakshmi2345/Bhagyalakshmi-/blob/main/Untitled3.ipynb\" target=\"_parent\"><img src=\"https://colab.research.google.com/assets/colab-badge.svg\" alt=\"Open In Colab\"/></a>"
      ]
    },
    {
      "cell_type": "markdown",
      "source": [
        "Local and Global variable\n",
        ""
      ],
      "metadata": {
        "id": "1U7z1MeqBqeJ"
      }
    },
    {
      "cell_type": "code",
      "source": [
        "x='helo'\n",
        "print(x.upper()) #capitalized the given value.\n",
        "print(x.lower())# lower case of the given value.\n",
        "print(x.replace('o','O'))#replace the given value.\n",
        "print(x[1:4])# here 1 is the second letter of the given value,and total length of the given value is 4 it is the end.\n",
        "print(x.title())#as we known the title start with capital letter.\n",
        "print(x.swapcase())#when the given value is the lower case it canges into the capital, vise versa.\n",
        "print(x.capitalize())#changes the lower value into the capital value.\n",
        "print(x.casefold())#first letter changes into the capital.\n",
        "print(x.center(3))\n",
        ""
      ],
      "metadata": {
        "colab": {
          "base_uri": "https://localhost:8080/"
        },
        "id": "J6EiECL0DkCM",
        "outputId": "a7660ea9-1528-48f7-deb1-a8223d38c850"
      },
      "execution_count": 1,
      "outputs": [
        {
          "output_type": "stream",
          "name": "stdout",
          "text": [
            "HELO\n",
            "helo\n",
            "helO\n",
            "elo\n",
            "Helo\n",
            "HELO\n",
            "Helo\n",
            "helo\n",
            "helo\n"
          ]
        }
      ]
    },
    {
      "cell_type": "code",
      "source": [
        " #global variable\n",
        "msg1='hii'\n",
        "def greet():\n",
        "  #local variable\n",
        "    name='bhagya'\n",
        "    print(name,msg1)\n",
        "greet()\n",
        "print('outside local scope:',msg1)\n",
        "\n",
        " #only global variables are print outside the function and we cannot print the variable in side the function.\n"
      ],
      "metadata": {
        "colab": {
          "base_uri": "https://localhost:8080/"
        },
        "id": "-reChD9R8n2L",
        "outputId": "e7ae97fb-6f00-4c34-f0f7-bad0a7bd2c54"
      },
      "execution_count": null,
      "outputs": [
        {
          "output_type": "stream",
          "name": "stdout",
          "text": [
            "bhagya hii\n",
            "outside local scope: hii\n"
          ]
        }
      ]
    }
  ]
}